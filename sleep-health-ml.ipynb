{
 "cells": [
  {
   "cell_type": "code",
   "execution_count": 1,
   "id": "33e28c26",
   "metadata": {
    "_cell_guid": "b1076dfc-b9ad-4769-8c92-a6c4dae69d19",
    "_uuid": "8f2839f25d086af736a60e9eeb907d3b93b6e0e5",
    "execution": {
     "iopub.execute_input": "2023-07-14T16:45:25.158154Z",
     "iopub.status.busy": "2023-07-14T16:45:25.157678Z",
     "iopub.status.idle": "2023-07-14T16:45:27.039458Z",
     "shell.execute_reply": "2023-07-14T16:45:27.037958Z"
    },
    "papermill": {
     "duration": 1.899325,
     "end_time": "2023-07-14T16:45:27.042477",
     "exception": false,
     "start_time": "2023-07-14T16:45:25.143152",
     "status": "completed"
    },
    "tags": []
   },
   "outputs": [
    {
     "name": "stderr",
     "output_type": "stream",
     "text": [
      "/opt/conda/lib/python3.10/site-packages/scipy/__init__.py:146: UserWarning: A NumPy version >=1.16.5 and <1.23.0 is required for this version of SciPy (detected version 1.23.5\n",
      "  warnings.warn(f\"A NumPy version >={np_minversion} and <{np_maxversion}\"\n"
     ]
    },
    {
     "name": "stdout",
     "output_type": "stream",
     "text": [
      "/kaggle/input/sleep-health-and-lifestyle-dataset/Sleep_health_and_lifestyle_dataset.csv\n"
     ]
    }
   ],
   "source": [
    "# This Python 3 environment comes with many helpful analytics libraries installed\n",
    "# It is defined by the kaggle/python Docker image: https://github.com/kaggle/docker-python\n",
    "# For example, here's several helpful packages to load\n",
    "\n",
    "import numpy as np # linear algebra\n",
    "import pandas as pd # data processing, CSV file I/O (e.g. pd.read_csv)\n",
    "import matplotlib.pyplot as plt\n",
    "import seaborn as sns\n",
    "plt.style.use('ggplot')\n",
    "\n",
    "# Input data files are available in the read-only \"../input/\" directory\n",
    "# For example, running this (by clicking run or pressing Shift+Enter) will list all files under the input directory\n",
    "\n",
    "import os\n",
    "for dirname, _, filenames in os.walk('/kaggle/input'):\n",
    "    for filename in filenames:\n",
    "        print(os.path.join(dirname, filename))\n",
    "\n",
    "# You can write up to 20GB to the current directory (/kaggle/working/) that gets preserved as output when you create a version using \"Save & Run All\" \n",
    "# You can also write temporary files to /kaggle/temp/, but they won't be saved outside of the current session"
   ]
  },
  {
   "cell_type": "code",
   "execution_count": 2,
   "id": "97fc2038",
   "metadata": {
    "execution": {
     "iopub.execute_input": "2023-07-14T16:45:27.071075Z",
     "iopub.status.busy": "2023-07-14T16:45:27.070302Z",
     "iopub.status.idle": "2023-07-14T16:45:27.130458Z",
     "shell.execute_reply": "2023-07-14T16:45:27.128885Z"
    },
    "papermill": {
     "duration": 0.078526,
     "end_time": "2023-07-14T16:45:27.134110",
     "exception": false,
     "start_time": "2023-07-14T16:45:27.055584",
     "status": "completed"
    },
    "tags": []
   },
   "outputs": [
    {
     "data": {
      "text/html": [
       "<div>\n",
       "<style scoped>\n",
       "    .dataframe tbody tr th:only-of-type {\n",
       "        vertical-align: middle;\n",
       "    }\n",
       "\n",
       "    .dataframe tbody tr th {\n",
       "        vertical-align: top;\n",
       "    }\n",
       "\n",
       "    .dataframe thead th {\n",
       "        text-align: right;\n",
       "    }\n",
       "</style>\n",
       "<table border=\"1\" class=\"dataframe\">\n",
       "  <thead>\n",
       "    <tr style=\"text-align: right;\">\n",
       "      <th></th>\n",
       "      <th>Person ID</th>\n",
       "      <th>Gender</th>\n",
       "      <th>Age</th>\n",
       "      <th>Occupation</th>\n",
       "      <th>Sleep Duration</th>\n",
       "      <th>Quality of Sleep</th>\n",
       "      <th>Physical Activity Level</th>\n",
       "      <th>Stress Level</th>\n",
       "      <th>BMI Category</th>\n",
       "      <th>Blood Pressure</th>\n",
       "      <th>Heart Rate</th>\n",
       "      <th>Daily Steps</th>\n",
       "      <th>Sleep Disorder</th>\n",
       "    </tr>\n",
       "  </thead>\n",
       "  <tbody>\n",
       "    <tr>\n",
       "      <th>0</th>\n",
       "      <td>1</td>\n",
       "      <td>Male</td>\n",
       "      <td>27</td>\n",
       "      <td>Software Engineer</td>\n",
       "      <td>6.1</td>\n",
       "      <td>6</td>\n",
       "      <td>42</td>\n",
       "      <td>6</td>\n",
       "      <td>Overweight</td>\n",
       "      <td>126/83</td>\n",
       "      <td>77</td>\n",
       "      <td>4200</td>\n",
       "      <td>None</td>\n",
       "    </tr>\n",
       "    <tr>\n",
       "      <th>1</th>\n",
       "      <td>2</td>\n",
       "      <td>Male</td>\n",
       "      <td>28</td>\n",
       "      <td>Doctor</td>\n",
       "      <td>6.2</td>\n",
       "      <td>6</td>\n",
       "      <td>60</td>\n",
       "      <td>8</td>\n",
       "      <td>Normal</td>\n",
       "      <td>125/80</td>\n",
       "      <td>75</td>\n",
       "      <td>10000</td>\n",
       "      <td>None</td>\n",
       "    </tr>\n",
       "    <tr>\n",
       "      <th>2</th>\n",
       "      <td>3</td>\n",
       "      <td>Male</td>\n",
       "      <td>28</td>\n",
       "      <td>Doctor</td>\n",
       "      <td>6.2</td>\n",
       "      <td>6</td>\n",
       "      <td>60</td>\n",
       "      <td>8</td>\n",
       "      <td>Normal</td>\n",
       "      <td>125/80</td>\n",
       "      <td>75</td>\n",
       "      <td>10000</td>\n",
       "      <td>None</td>\n",
       "    </tr>\n",
       "    <tr>\n",
       "      <th>3</th>\n",
       "      <td>4</td>\n",
       "      <td>Male</td>\n",
       "      <td>28</td>\n",
       "      <td>Sales Representative</td>\n",
       "      <td>5.9</td>\n",
       "      <td>4</td>\n",
       "      <td>30</td>\n",
       "      <td>8</td>\n",
       "      <td>Obese</td>\n",
       "      <td>140/90</td>\n",
       "      <td>85</td>\n",
       "      <td>3000</td>\n",
       "      <td>Sleep Apnea</td>\n",
       "    </tr>\n",
       "    <tr>\n",
       "      <th>4</th>\n",
       "      <td>5</td>\n",
       "      <td>Male</td>\n",
       "      <td>28</td>\n",
       "      <td>Sales Representative</td>\n",
       "      <td>5.9</td>\n",
       "      <td>4</td>\n",
       "      <td>30</td>\n",
       "      <td>8</td>\n",
       "      <td>Obese</td>\n",
       "      <td>140/90</td>\n",
       "      <td>85</td>\n",
       "      <td>3000</td>\n",
       "      <td>Sleep Apnea</td>\n",
       "    </tr>\n",
       "  </tbody>\n",
       "</table>\n",
       "</div>"
      ],
      "text/plain": [
       "   Person ID Gender  Age            Occupation  Sleep Duration  \\\n",
       "0          1   Male   27     Software Engineer             6.1   \n",
       "1          2   Male   28                Doctor             6.2   \n",
       "2          3   Male   28                Doctor             6.2   \n",
       "3          4   Male   28  Sales Representative             5.9   \n",
       "4          5   Male   28  Sales Representative             5.9   \n",
       "\n",
       "   Quality of Sleep  Physical Activity Level  Stress Level BMI Category  \\\n",
       "0                 6                       42             6   Overweight   \n",
       "1                 6                       60             8       Normal   \n",
       "2                 6                       60             8       Normal   \n",
       "3                 4                       30             8        Obese   \n",
       "4                 4                       30             8        Obese   \n",
       "\n",
       "  Blood Pressure  Heart Rate  Daily Steps Sleep Disorder  \n",
       "0         126/83          77         4200           None  \n",
       "1         125/80          75        10000           None  \n",
       "2         125/80          75        10000           None  \n",
       "3         140/90          85         3000    Sleep Apnea  \n",
       "4         140/90          85         3000    Sleep Apnea  "
      ]
     },
     "execution_count": 2,
     "metadata": {},
     "output_type": "execute_result"
    }
   ],
   "source": [
    "df = pd.read_csv(\"/kaggle/input/sleep-health-and-lifestyle-dataset/Sleep_health_and_lifestyle_dataset.csv\")\n",
    "df.head()"
   ]
  },
  {
   "cell_type": "markdown",
   "id": "2530de94",
   "metadata": {
    "papermill": {
     "duration": 0.012573,
     "end_time": "2023-07-14T16:45:27.159633",
     "exception": false,
     "start_time": "2023-07-14T16:45:27.147060",
     "status": "completed"
    },
    "tags": []
   },
   "source": [
    "## EDA"
   ]
  },
  {
   "cell_type": "code",
   "execution_count": 3,
   "id": "7d746bf7",
   "metadata": {
    "execution": {
     "iopub.execute_input": "2023-07-14T16:45:27.188240Z",
     "iopub.status.busy": "2023-07-14T16:45:27.186899Z",
     "iopub.status.idle": "2023-07-14T16:45:27.202547Z",
     "shell.execute_reply": "2023-07-14T16:45:27.201241Z"
    },
    "papermill": {
     "duration": 0.032823,
     "end_time": "2023-07-14T16:45:27.205293",
     "exception": false,
     "start_time": "2023-07-14T16:45:27.172470",
     "status": "completed"
    },
    "tags": []
   },
   "outputs": [
    {
     "data": {
      "text/plain": [
       "Person ID                  0\n",
       "Gender                     0\n",
       "Age                        0\n",
       "Occupation                 0\n",
       "Sleep Duration             0\n",
       "Quality of Sleep           0\n",
       "Physical Activity Level    0\n",
       "Stress Level               0\n",
       "BMI Category               0\n",
       "Blood Pressure             0\n",
       "Heart Rate                 0\n",
       "Daily Steps                0\n",
       "Sleep Disorder             0\n",
       "dtype: int64"
      ]
     },
     "execution_count": 3,
     "metadata": {},
     "output_type": "execute_result"
    }
   ],
   "source": [
    "df.isnull().sum()"
   ]
  },
  {
   "cell_type": "code",
   "execution_count": 4,
   "id": "7294fa2c",
   "metadata": {
    "execution": {
     "iopub.execute_input": "2023-07-14T16:45:27.238717Z",
     "iopub.status.busy": "2023-07-14T16:45:27.237918Z",
     "iopub.status.idle": "2023-07-14T16:45:27.245487Z",
     "shell.execute_reply": "2023-07-14T16:45:27.244133Z"
    },
    "papermill": {
     "duration": 0.027786,
     "end_time": "2023-07-14T16:45:27.248116",
     "exception": false,
     "start_time": "2023-07-14T16:45:27.220330",
     "status": "completed"
    },
    "tags": []
   },
   "outputs": [
    {
     "data": {
      "text/plain": [
       "(374, 13)"
      ]
     },
     "execution_count": 4,
     "metadata": {},
     "output_type": "execute_result"
    }
   ],
   "source": [
    "df.shape"
   ]
  },
  {
   "cell_type": "code",
   "execution_count": 5,
   "id": "1631f773",
   "metadata": {
    "execution": {
     "iopub.execute_input": "2023-07-14T16:45:27.276581Z",
     "iopub.status.busy": "2023-07-14T16:45:27.275795Z",
     "iopub.status.idle": "2023-07-14T16:45:27.309258Z",
     "shell.execute_reply": "2023-07-14T16:45:27.308062Z"
    },
    "papermill": {
     "duration": 0.051075,
     "end_time": "2023-07-14T16:45:27.312219",
     "exception": false,
     "start_time": "2023-07-14T16:45:27.261144",
     "status": "completed"
    },
    "tags": []
   },
   "outputs": [
    {
     "name": "stdout",
     "output_type": "stream",
     "text": [
      "<class 'pandas.core.frame.DataFrame'>\n",
      "RangeIndex: 374 entries, 0 to 373\n",
      "Data columns (total 13 columns):\n",
      " #   Column                   Non-Null Count  Dtype  \n",
      "---  ------                   --------------  -----  \n",
      " 0   Person ID                374 non-null    int64  \n",
      " 1   Gender                   374 non-null    object \n",
      " 2   Age                      374 non-null    int64  \n",
      " 3   Occupation               374 non-null    object \n",
      " 4   Sleep Duration           374 non-null    float64\n",
      " 5   Quality of Sleep         374 non-null    int64  \n",
      " 6   Physical Activity Level  374 non-null    int64  \n",
      " 7   Stress Level             374 non-null    int64  \n",
      " 8   BMI Category             374 non-null    object \n",
      " 9   Blood Pressure           374 non-null    object \n",
      " 10  Heart Rate               374 non-null    int64  \n",
      " 11  Daily Steps              374 non-null    int64  \n",
      " 12  Sleep Disorder           374 non-null    object \n",
      "dtypes: float64(1), int64(7), object(5)\n",
      "memory usage: 38.1+ KB\n"
     ]
    }
   ],
   "source": [
    "df.info()"
   ]
  },
  {
   "cell_type": "code",
   "execution_count": 6,
   "id": "13f02597",
   "metadata": {
    "execution": {
     "iopub.execute_input": "2023-07-14T16:45:27.341017Z",
     "iopub.status.busy": "2023-07-14T16:45:27.340183Z",
     "iopub.status.idle": "2023-07-14T16:45:27.384448Z",
     "shell.execute_reply": "2023-07-14T16:45:27.382957Z"
    },
    "papermill": {
     "duration": 0.061882,
     "end_time": "2023-07-14T16:45:27.387255",
     "exception": false,
     "start_time": "2023-07-14T16:45:27.325373",
     "status": "completed"
    },
    "tags": []
   },
   "outputs": [
    {
     "data": {
      "text/html": [
       "<div>\n",
       "<style scoped>\n",
       "    .dataframe tbody tr th:only-of-type {\n",
       "        vertical-align: middle;\n",
       "    }\n",
       "\n",
       "    .dataframe tbody tr th {\n",
       "        vertical-align: top;\n",
       "    }\n",
       "\n",
       "    .dataframe thead th {\n",
       "        text-align: right;\n",
       "    }\n",
       "</style>\n",
       "<table border=\"1\" class=\"dataframe\">\n",
       "  <thead>\n",
       "    <tr style=\"text-align: right;\">\n",
       "      <th></th>\n",
       "      <th>Person ID</th>\n",
       "      <th>Age</th>\n",
       "      <th>Sleep Duration</th>\n",
       "      <th>Quality of Sleep</th>\n",
       "      <th>Physical Activity Level</th>\n",
       "      <th>Stress Level</th>\n",
       "      <th>Heart Rate</th>\n",
       "      <th>Daily Steps</th>\n",
       "    </tr>\n",
       "  </thead>\n",
       "  <tbody>\n",
       "    <tr>\n",
       "      <th>count</th>\n",
       "      <td>374.000000</td>\n",
       "      <td>374.000000</td>\n",
       "      <td>374.000000</td>\n",
       "      <td>374.000000</td>\n",
       "      <td>374.000000</td>\n",
       "      <td>374.000000</td>\n",
       "      <td>374.000000</td>\n",
       "      <td>374.000000</td>\n",
       "    </tr>\n",
       "    <tr>\n",
       "      <th>mean</th>\n",
       "      <td>187.500000</td>\n",
       "      <td>42.184492</td>\n",
       "      <td>7.132086</td>\n",
       "      <td>7.312834</td>\n",
       "      <td>59.171123</td>\n",
       "      <td>5.385027</td>\n",
       "      <td>70.165775</td>\n",
       "      <td>6816.844920</td>\n",
       "    </tr>\n",
       "    <tr>\n",
       "      <th>std</th>\n",
       "      <td>108.108742</td>\n",
       "      <td>8.673133</td>\n",
       "      <td>0.795657</td>\n",
       "      <td>1.196956</td>\n",
       "      <td>20.830804</td>\n",
       "      <td>1.774526</td>\n",
       "      <td>4.135676</td>\n",
       "      <td>1617.915679</td>\n",
       "    </tr>\n",
       "    <tr>\n",
       "      <th>min</th>\n",
       "      <td>1.000000</td>\n",
       "      <td>27.000000</td>\n",
       "      <td>5.800000</td>\n",
       "      <td>4.000000</td>\n",
       "      <td>30.000000</td>\n",
       "      <td>3.000000</td>\n",
       "      <td>65.000000</td>\n",
       "      <td>3000.000000</td>\n",
       "    </tr>\n",
       "    <tr>\n",
       "      <th>25%</th>\n",
       "      <td>94.250000</td>\n",
       "      <td>35.250000</td>\n",
       "      <td>6.400000</td>\n",
       "      <td>6.000000</td>\n",
       "      <td>45.000000</td>\n",
       "      <td>4.000000</td>\n",
       "      <td>68.000000</td>\n",
       "      <td>5600.000000</td>\n",
       "    </tr>\n",
       "    <tr>\n",
       "      <th>50%</th>\n",
       "      <td>187.500000</td>\n",
       "      <td>43.000000</td>\n",
       "      <td>7.200000</td>\n",
       "      <td>7.000000</td>\n",
       "      <td>60.000000</td>\n",
       "      <td>5.000000</td>\n",
       "      <td>70.000000</td>\n",
       "      <td>7000.000000</td>\n",
       "    </tr>\n",
       "    <tr>\n",
       "      <th>75%</th>\n",
       "      <td>280.750000</td>\n",
       "      <td>50.000000</td>\n",
       "      <td>7.800000</td>\n",
       "      <td>8.000000</td>\n",
       "      <td>75.000000</td>\n",
       "      <td>7.000000</td>\n",
       "      <td>72.000000</td>\n",
       "      <td>8000.000000</td>\n",
       "    </tr>\n",
       "    <tr>\n",
       "      <th>max</th>\n",
       "      <td>374.000000</td>\n",
       "      <td>59.000000</td>\n",
       "      <td>8.500000</td>\n",
       "      <td>9.000000</td>\n",
       "      <td>90.000000</td>\n",
       "      <td>8.000000</td>\n",
       "      <td>86.000000</td>\n",
       "      <td>10000.000000</td>\n",
       "    </tr>\n",
       "  </tbody>\n",
       "</table>\n",
       "</div>"
      ],
      "text/plain": [
       "        Person ID         Age  Sleep Duration  Quality of Sleep  \\\n",
       "count  374.000000  374.000000      374.000000        374.000000   \n",
       "mean   187.500000   42.184492        7.132086          7.312834   \n",
       "std    108.108742    8.673133        0.795657          1.196956   \n",
       "min      1.000000   27.000000        5.800000          4.000000   \n",
       "25%     94.250000   35.250000        6.400000          6.000000   \n",
       "50%    187.500000   43.000000        7.200000          7.000000   \n",
       "75%    280.750000   50.000000        7.800000          8.000000   \n",
       "max    374.000000   59.000000        8.500000          9.000000   \n",
       "\n",
       "       Physical Activity Level  Stress Level  Heart Rate   Daily Steps  \n",
       "count               374.000000    374.000000  374.000000    374.000000  \n",
       "mean                 59.171123      5.385027   70.165775   6816.844920  \n",
       "std                  20.830804      1.774526    4.135676   1617.915679  \n",
       "min                  30.000000      3.000000   65.000000   3000.000000  \n",
       "25%                  45.000000      4.000000   68.000000   5600.000000  \n",
       "50%                  60.000000      5.000000   70.000000   7000.000000  \n",
       "75%                  75.000000      7.000000   72.000000   8000.000000  \n",
       "max                  90.000000      8.000000   86.000000  10000.000000  "
      ]
     },
     "execution_count": 6,
     "metadata": {},
     "output_type": "execute_result"
    }
   ],
   "source": [
    "df.describe()"
   ]
  },
  {
   "cell_type": "code",
   "execution_count": 7,
   "id": "88189769",
   "metadata": {
    "execution": {
     "iopub.execute_input": "2023-07-14T16:45:27.416781Z",
     "iopub.status.busy": "2023-07-14T16:45:27.416223Z",
     "iopub.status.idle": "2023-07-14T16:45:27.426617Z",
     "shell.execute_reply": "2023-07-14T16:45:27.424871Z"
    },
    "papermill": {
     "duration": 0.029226,
     "end_time": "2023-07-14T16:45:27.429868",
     "exception": false,
     "start_time": "2023-07-14T16:45:27.400642",
     "status": "completed"
    },
    "tags": []
   },
   "outputs": [
    {
     "name": "stdout",
     "output_type": "stream",
     "text": [
      "Normal           195\n",
      "Overweight       148\n",
      "Normal Weight     21\n",
      "Obese             10\n",
      "Name: BMI Category, dtype: int64\n"
     ]
    }
   ],
   "source": [
    "bmi = df['BMI Category'].value_counts()\n",
    "print(bmi)"
   ]
  },
  {
   "cell_type": "code",
   "execution_count": 8,
   "id": "d5bca3ad",
   "metadata": {
    "execution": {
     "iopub.execute_input": "2023-07-14T16:45:27.460902Z",
     "iopub.status.busy": "2023-07-14T16:45:27.460426Z",
     "iopub.status.idle": "2023-07-14T16:45:27.470356Z",
     "shell.execute_reply": "2023-07-14T16:45:27.469194Z"
    },
    "papermill": {
     "duration": 0.028814,
     "end_time": "2023-07-14T16:45:27.473170",
     "exception": false,
     "start_time": "2023-07-14T16:45:27.444356",
     "status": "completed"
    },
    "tags": []
   },
   "outputs": [
    {
     "data": {
      "text/plain": [
       "Male      189\n",
       "Female    185\n",
       "Name: Gender, dtype: int64"
      ]
     },
     "execution_count": 8,
     "metadata": {},
     "output_type": "execute_result"
    }
   ],
   "source": [
    "df['Gender'].value_counts()"
   ]
  },
  {
   "cell_type": "code",
   "execution_count": 9,
   "id": "c6bf2f12",
   "metadata": {
    "execution": {
     "iopub.execute_input": "2023-07-14T16:45:27.504112Z",
     "iopub.status.busy": "2023-07-14T16:45:27.503691Z",
     "iopub.status.idle": "2023-07-14T16:45:27.511716Z",
     "shell.execute_reply": "2023-07-14T16:45:27.510296Z"
    },
    "papermill": {
     "duration": 0.027576,
     "end_time": "2023-07-14T16:45:27.514723",
     "exception": false,
     "start_time": "2023-07-14T16:45:27.487147",
     "status": "completed"
    },
    "tags": []
   },
   "outputs": [
    {
     "name": "stdout",
     "output_type": "stream",
     "text": [
      "None           219\n",
      "Sleep Apnea     78\n",
      "Insomnia        77\n",
      "Name: Sleep Disorder, dtype: int64\n"
     ]
    }
   ],
   "source": [
    "sleep_disorder = df['Sleep Disorder'].value_counts()\n",
    "print(sleep_disorder\n",
    "     )"
   ]
  },
  {
   "cell_type": "code",
   "execution_count": 10,
   "id": "20848725",
   "metadata": {
    "execution": {
     "iopub.execute_input": "2023-07-14T16:45:27.545922Z",
     "iopub.status.busy": "2023-07-14T16:45:27.545233Z",
     "iopub.status.idle": "2023-07-14T16:45:27.557369Z",
     "shell.execute_reply": "2023-07-14T16:45:27.555868Z"
    },
    "papermill": {
     "duration": 0.03095,
     "end_time": "2023-07-14T16:45:27.560196",
     "exception": false,
     "start_time": "2023-07-14T16:45:27.529246",
     "status": "completed"
    },
    "tags": []
   },
   "outputs": [
    {
     "data": {
      "text/plain": [
       "Nurse                   73\n",
       "Doctor                  71\n",
       "Engineer                63\n",
       "Lawyer                  47\n",
       "Teacher                 40\n",
       "Accountant              37\n",
       "Salesperson             32\n",
       "Software Engineer        4\n",
       "Scientist                4\n",
       "Sales Representative     2\n",
       "Manager                  1\n",
       "Name: Occupation, dtype: int64"
      ]
     },
     "execution_count": 10,
     "metadata": {},
     "output_type": "execute_result"
    }
   ],
   "source": [
    "df['Occupation'].value_counts()"
   ]
  },
  {
   "cell_type": "markdown",
   "id": "9fb61e0d",
   "metadata": {
    "papermill": {
     "duration": 0.013908,
     "end_time": "2023-07-14T16:45:27.589360",
     "exception": false,
     "start_time": "2023-07-14T16:45:27.575452",
     "status": "completed"
    },
    "tags": []
   },
   "source": [
    "## Visualization"
   ]
  },
  {
   "cell_type": "code",
   "execution_count": 11,
   "id": "e7dd68c7",
   "metadata": {
    "execution": {
     "iopub.execute_input": "2023-07-14T16:45:27.620250Z",
     "iopub.status.busy": "2023-07-14T16:45:27.619769Z",
     "iopub.status.idle": "2023-07-14T16:45:27.884740Z",
     "shell.execute_reply": "2023-07-14T16:45:27.882701Z"
    },
    "papermill": {
     "duration": 0.284464,
     "end_time": "2023-07-14T16:45:27.888139",
     "exception": false,
     "start_time": "2023-07-14T16:45:27.603675",
     "status": "completed"
    },
    "tags": []
   },
   "outputs": [
    {
     "data": {
      "image/png": "[encoded data removed]",
      "text/plain": [
       "<Figure size 640x480 with 1 Axes>"
      ]
     },
     "metadata": {},
     "output_type": "display_data"
    }
   ],
   "source": [
    "plt.title(\"Distribution of Sleep Disorder in the Dataset\")\n",
    "sleep_disorder.plot(kind='pie', autopct=\"%1.1f%%\")\n",
    "\n",
    "plt.show()"
   ]
  },
  {
   "cell_type": "code",
   "execution_count": 12,
   "id": "798c3339",
   "metadata": {
    "execution": {
     "iopub.execute_input": "2023-07-14T16:45:27.920936Z",
     "iopub.status.busy": "2023-07-14T16:45:27.920111Z",
     "iopub.status.idle": "2023-07-14T16:45:27.931425Z",
     "shell.execute_reply": "2023-07-14T16:45:27.929822Z"
    },
    "papermill": {
     "duration": 0.031349,
     "end_time": "2023-07-14T16:45:27.934659",
     "exception": false,
     "start_time": "2023-07-14T16:45:27.903310",
     "status": "completed"
    },
    "tags": []
   },
   "outputs": [],
   "source": [
    "insomnia = df[df['Sleep Disorder'] == 'Insomnia']\n",
    "sleep_apnea = df[df['Sleep Disorder'] == 'Sleep Apnea']"
   ]
  },
  {
   "cell_type": "code",
   "execution_count": 13,
   "id": "57d18a18",
   "metadata": {
    "execution": {
     "iopub.execute_input": "2023-07-14T16:45:27.966402Z",
     "iopub.status.busy": "2023-07-14T16:45:27.965598Z",
     "iopub.status.idle": "2023-07-14T16:45:31.612858Z",
     "shell.execute_reply": "2023-07-14T16:45:31.611444Z"
    },
    "papermill": {
     "duration": 3.665877,
     "end_time": "2023-07-14T16:45:31.615115",
     "exception": false,
     "start_time": "2023-07-14T16:45:27.949238",
     "status": "completed"
    },
    "tags": []
   },
   "outputs": [
    {
     "data": {
      "image/png": "[encoded data removed]",
      "text/plain": [
       "<Figure size 1800x1000 with 4 Axes>"
      ]
     },
     "metadata": {},
     "output_type": "display_data"
    }
   ],
   "source": [
    "fig, axes = plt.subplots(2,2, figsize=(18,10))\n",
    "\n",
    "axes[0,0].set_title(\"Quality of Sleep vs Sleep Duration\")\n",
    "sns.barplot(ax=axes[0,0] ,x=df['Quality of Sleep'], y=df['Sleep Duration'], hue=df['Sleep Disorder'])\n",
    "axes[0,1].set_title(\"Quality of Sleep vs Stress Level\")\n",
    "sns.barplot(ax=axes[0,1], x=df['Quality of Sleep'], y=df['Stress Level'], hue=df['Sleep Disorder'])\n",
    "axes[1,0].set_title(\"Quality of Sleep vs Physical Activity Level\")\n",
    "sns.barplot(ax=axes[1,0], x=df['Quality of Sleep'], y=df['Physical Activity Level'], hue=df['Sleep Disorder'])\n",
    "axes[1,1].set_title(\"Quality of Sleep vs Daily Steps\")\n",
    "sns.barplot(ax=axes[1,1], x=df['Quality of Sleep'], y=df['Daily Steps'], hue=df['Sleep Disorder'])\n",
    "\n",
    "plt.show()"
   ]
  },
  {
   "cell_type": "code",
   "execution_count": 14,
   "id": "217f5f56",
   "metadata": {
    "execution": {
     "iopub.execute_input": "2023-07-14T16:45:31.649314Z",
     "iopub.status.busy": "2023-07-14T16:45:31.648440Z",
     "iopub.status.idle": "2023-07-14T16:45:36.601568Z",
     "shell.execute_reply": "2023-07-14T16:45:36.599957Z"
    },
    "papermill": {
     "duration": 4.973903,
     "end_time": "2023-07-14T16:45:36.604388",
     "exception": false,
     "start_time": "2023-07-14T16:45:31.630485",
     "status": "completed"
    },
    "tags": []
   },
   "outputs": [
    {
     "data": {
      "image/png": "[encoded data removed]",
      "text/plain": [
       "<Figure size 1600x800 with 3 Axes>"
      ]
     },
     "metadata": {},
     "output_type": "display_data"
    }
   ],
   "source": [
    "fig, axes = plt.subplots(1,3, figsize=(16,8))\n",
    "axes[0].set_title(\"Sleep Duration Vs Stress Level\")\n",
    "sns.barplot(ax=axes[0], x=df['Sleep Duration'], y=df['Stress Level'], hue=df['Sleep Disorder'], orient='horizontal')\n",
    "axes[1].set_title(\"Sleep Duration Vs Physical Activity Level\")\n",
    "sns.barplot(ax=axes[1], x=df['Sleep Duration'], y=df['Physical Activity Level'], hue=df['Sleep Disorder'], orient='horizontal')\n",
    "axes[2].set_title(\"Sleep Duration Vs Daily Steps\")\n",
    "sns.barplot(ax=axes[2], x=df['Sleep Duration'], y=df['Daily Steps'], hue=df['Sleep Disorder'], orient='horizontal')\n",
    "\n",
    "plt.tight_layout()\n",
    "plt.show()"
   ]
  },
  {
   "cell_type": "code",
   "execution_count": 15,
   "id": "f61a1cb1",
   "metadata": {
    "execution": {
     "iopub.execute_input": "2023-07-14T16:45:36.642828Z",
     "iopub.status.busy": "2023-07-14T16:45:36.642269Z",
     "iopub.status.idle": "2023-07-14T16:45:36.792947Z",
     "shell.execute_reply": "2023-07-14T16:45:36.792052Z"
    },
    "papermill": {
     "duration": 0.176162,
     "end_time": "2023-07-14T16:45:36.797832",
     "exception": false,
     "start_time": "2023-07-14T16:45:36.621670",
     "status": "completed"
    },
    "tags": []
   },
   "outputs": [
    {
     "data": {
      "image/png": "[encoded data removed]",
      "text/plain": [
       "<Figure size 640x480 with 1 Axes>"
      ]
     },
     "metadata": {},
     "output_type": "display_data"
    }
   ],
   "source": [
    "plt.title(\"Distribution of BMI\")\n",
    "bmi.plot(kind='pie', autopct=\"%1.1f%%\")\n",
    "\n",
    "plt.show()"
   ]
  },
  {
   "cell_type": "markdown",
   "id": "59bcf900",
   "metadata": {
    "papermill": {
     "duration": 0.035153,
     "end_time": "2023-07-14T16:45:36.868538",
     "exception": false,
     "start_time": "2023-07-14T16:45:36.833385",
     "status": "completed"
    },
    "tags": []
   },
   "source": [
    "# Model"
   ]
  },
  {
   "cell_type": "code",
   "execution_count": 16,
   "id": "cdd838c2",
   "metadata": {
    "execution": {
     "iopub.execute_input": "2023-07-14T16:45:36.907526Z",
     "iopub.status.busy": "2023-07-14T16:45:36.906550Z",
     "iopub.status.idle": "2023-07-14T16:45:37.372734Z",
     "shell.execute_reply": "2023-07-14T16:45:37.371208Z"
    },
    "papermill": {
     "duration": 0.488862,
     "end_time": "2023-07-14T16:45:37.376012",
     "exception": false,
     "start_time": "2023-07-14T16:45:36.887150",
     "status": "completed"
    },
    "tags": []
   },
   "outputs": [],
   "source": [
    "from sklearn.model_selection import train_test_split\n",
    "from sklearn.preprocessing import StandardScaler\n",
    "from sklearn import svm\n",
    "from sklearn.metrics import accuracy_score"
   ]
  },
  {
   "cell_type": "code",
   "execution_count": 17,
   "id": "788a9de6",
   "metadata": {
    "execution": {
     "iopub.execute_input": "2023-07-14T16:45:37.413719Z",
     "iopub.status.busy": "2023-07-14T16:45:37.413166Z",
     "iopub.status.idle": "2023-07-14T16:45:37.422259Z",
     "shell.execute_reply": "2023-07-14T16:45:37.420849Z"
    },
    "papermill": {
     "duration": 0.030988,
     "end_time": "2023-07-14T16:45:37.424909",
     "exception": false,
     "start_time": "2023-07-14T16:45:37.393921",
     "status": "completed"
    },
    "tags": []
   },
   "outputs": [
    {
     "data": {
      "text/plain": [
       "Index(['Person ID', 'Gender', 'Age', 'Occupation', 'Sleep Duration',\n",
       "       'Quality of Sleep', 'Physical Activity Level', 'Stress Level',\n",
       "       'BMI Category', 'Blood Pressure', 'Heart Rate', 'Daily Steps',\n",
       "       'Sleep Disorder'],\n",
       "      dtype='object')"
      ]
     },
     "execution_count": 17,
     "metadata": {},
     "output_type": "execute_result"
    }
   ],
   "source": [
    "df.columns"
   ]
  },
  {
   "cell_type": "code",
   "execution_count": 18,
   "id": "53825a6e",
   "metadata": {
    "execution": {
     "iopub.execute_input": "2023-07-14T16:45:37.462907Z",
     "iopub.status.busy": "2023-07-14T16:45:37.462345Z",
     "iopub.status.idle": "2023-07-14T16:45:37.484111Z",
     "shell.execute_reply": "2023-07-14T16:45:37.482852Z"
    },
    "papermill": {
     "duration": 0.044318,
     "end_time": "2023-07-14T16:45:37.486965",
     "exception": false,
     "start_time": "2023-07-14T16:45:37.442647",
     "status": "completed"
    },
    "tags": []
   },
   "outputs": [
    {
     "data": {
      "text/html": [
       "<div>\n",
       "<style scoped>\n",
       "    .dataframe tbody tr th:only-of-type {\n",
       "        vertical-align: middle;\n",
       "    }\n",
       "\n",
       "    .dataframe tbody tr th {\n",
       "        vertical-align: top;\n",
       "    }\n",
       "\n",
       "    .dataframe thead th {\n",
       "        text-align: right;\n",
       "    }\n",
       "</style>\n",
       "<table border=\"1\" class=\"dataframe\">\n",
       "  <thead>\n",
       "    <tr style=\"text-align: right;\">\n",
       "      <th></th>\n",
       "      <th>Gender</th>\n",
       "      <th>Age</th>\n",
       "      <th>Sleep Duration</th>\n",
       "      <th>Quality of Sleep</th>\n",
       "      <th>Physical Activity Level</th>\n",
       "      <th>Stress Level</th>\n",
       "      <th>BMI Category</th>\n",
       "      <th>Blood Pressure</th>\n",
       "      <th>Heart Rate</th>\n",
       "      <th>Daily Steps</th>\n",
       "      <th>Sleep Disorder</th>\n",
       "    </tr>\n",
       "  </thead>\n",
       "  <tbody>\n",
       "    <tr>\n",
       "      <th>0</th>\n",
       "      <td>Male</td>\n",
       "      <td>27</td>\n",
       "      <td>6.1</td>\n",
       "      <td>6</td>\n",
       "      <td>42</td>\n",
       "      <td>6</td>\n",
       "      <td>Overweight</td>\n",
       "      <td>126/83</td>\n",
       "      <td>77</td>\n",
       "      <td>4200</td>\n",
       "      <td>None</td>\n",
       "    </tr>\n",
       "    <tr>\n",
       "      <th>1</th>\n",
       "      <td>Male</td>\n",
       "      <td>28</td>\n",
       "      <td>6.2</td>\n",
       "      <td>6</td>\n",
       "      <td>60</td>\n",
       "      <td>8</td>\n",
       "      <td>Normal</td>\n",
       "      <td>125/80</td>\n",
       "      <td>75</td>\n",
       "      <td>10000</td>\n",
       "      <td>None</td>\n",
       "    </tr>\n",
       "    <tr>\n",
       "      <th>2</th>\n",
       "      <td>Male</td>\n",
       "      <td>28</td>\n",
       "      <td>6.2</td>\n",
       "      <td>6</td>\n",
       "      <td>60</td>\n",
       "      <td>8</td>\n",
       "      <td>Normal</td>\n",
       "      <td>125/80</td>\n",
       "      <td>75</td>\n",
       "      <td>10000</td>\n",
       "      <td>None</td>\n",
       "    </tr>\n",
       "    <tr>\n",
       "      <th>3</th>\n",
       "      <td>Male</td>\n",
       "      <td>28</td>\n",
       "      <td>5.9</td>\n",
       "      <td>4</td>\n",
       "      <td>30</td>\n",
       "      <td>8</td>\n",
       "      <td>Obese</td>\n",
       "      <td>140/90</td>\n",
       "      <td>85</td>\n",
       "      <td>3000</td>\n",
       "      <td>Sleep Apnea</td>\n",
       "    </tr>\n",
       "    <tr>\n",
       "      <th>4</th>\n",
       "      <td>Male</td>\n",
       "      <td>28</td>\n",
       "      <td>5.9</td>\n",
       "      <td>4</td>\n",
       "      <td>30</td>\n",
       "      <td>8</td>\n",
       "      <td>Obese</td>\n",
       "      <td>140/90</td>\n",
       "      <td>85</td>\n",
       "      <td>3000</td>\n",
       "      <td>Sleep Apnea</td>\n",
       "    </tr>\n",
       "  </tbody>\n",
       "</table>\n",
       "</div>"
      ],
      "text/plain": [
       "  Gender  Age  Sleep Duration  Quality of Sleep  Physical Activity Level  \\\n",
       "0   Male   27             6.1                 6                       42   \n",
       "1   Male   28             6.2                 6                       60   \n",
       "2   Male   28             6.2                 6                       60   \n",
       "3   Male   28             5.9                 4                       30   \n",
       "4   Male   28             5.9                 4                       30   \n",
       "\n",
       "   Stress Level BMI Category Blood Pressure  Heart Rate  Daily Steps  \\\n",
       "0             6   Overweight         126/83          77         4200   \n",
       "1             8       Normal         125/80          75        10000   \n",
       "2             8       Normal         125/80          75        10000   \n",
       "3             8        Obese         140/90          85         3000   \n",
       "4             8        Obese         140/90          85         3000   \n",
       "\n",
       "  Sleep Disorder  \n",
       "0           None  \n",
       "1           None  \n",
       "2           None  \n",
       "3    Sleep Apnea  \n",
       "4    Sleep Apnea  "
      ]
     },
     "execution_count": 18,
     "metadata": {},
     "output_type": "execute_result"
    }
   ],
   "source": [
    "df_for_model = df[[#'Person ID', \n",
    "        'Gender', 'Age',  \n",
    "        'Sleep Duration',\n",
    "        'Quality of Sleep', 'Physical Activity Level', 'Stress Level',\n",
    "        'BMI Category', 'Blood Pressure', 'Heart Rate', 'Daily Steps',\n",
    "        'Sleep Disorder']]\n",
    "df_for_model.head()"
   ]
  },
  {
   "cell_type": "code",
   "execution_count": 19,
   "id": "4ed3b4b2",
   "metadata": {
    "execution": {
     "iopub.execute_input": "2023-07-14T16:45:37.528051Z",
     "iopub.status.busy": "2023-07-14T16:45:37.527046Z",
     "iopub.status.idle": "2023-07-14T16:45:37.536865Z",
     "shell.execute_reply": "2023-07-14T16:45:37.535066Z"
    },
    "papermill": {
     "duration": 0.034119,
     "end_time": "2023-07-14T16:45:37.539865",
     "exception": false,
     "start_time": "2023-07-14T16:45:37.505746",
     "status": "completed"
    },
    "tags": []
   },
   "outputs": [
    {
     "name": "stdout",
     "output_type": "stream",
     "text": [
      "(374,)\n",
      "(374, 10)\n"
     ]
    }
   ],
   "source": [
    "Y = df['Sleep Disorder']\n",
    "X = df_for_model.drop(columns=['Sleep Disorder'])\n",
    "print(Y.shape)\n",
    "print(X.shape)"
   ]
  },
  {
   "cell_type": "code",
   "execution_count": 20,
   "id": "c3a95389",
   "metadata": {
    "execution": {
     "iopub.execute_input": "2023-07-14T16:45:37.579879Z",
     "iopub.status.busy": "2023-07-14T16:45:37.579419Z",
     "iopub.status.idle": "2023-07-14T16:45:37.585885Z",
     "shell.execute_reply": "2023-07-14T16:45:37.584435Z"
    },
    "papermill": {
     "duration": 0.03004,
     "end_time": "2023-07-14T16:45:37.588786",
     "exception": false,
     "start_time": "2023-07-14T16:45:37.558746",
     "status": "completed"
    },
    "tags": []
   },
   "outputs": [],
   "source": [
    "# Copy of Original X and Y\n",
    "labeled_X_copy = X.copy()\n",
    "labeled_Y_copy = Y.copy()"
   ]
  },
  {
   "cell_type": "code",
   "execution_count": 21,
   "id": "ea2c0c0a",
   "metadata": {
    "execution": {
     "iopub.execute_input": "2023-07-14T16:45:37.629244Z",
     "iopub.status.busy": "2023-07-14T16:45:37.628848Z",
     "iopub.status.idle": "2023-07-14T16:45:37.654599Z",
     "shell.execute_reply": "2023-07-14T16:45:37.653316Z"
    },
    "jupyter": {
     "source_hidden": true
    },
    "papermill": {
     "duration": 0.049236,
     "end_time": "2023-07-14T16:45:37.657459",
     "exception": false,
     "start_time": "2023-07-14T16:45:37.608223",
     "status": "completed"
    },
    "tags": []
   },
   "outputs": [
    {
     "data": {
      "text/html": [
       "<div>\n",
       "<style scoped>\n",
       "    .dataframe tbody tr th:only-of-type {\n",
       "        vertical-align: middle;\n",
       "    }\n",
       "\n",
       "    .dataframe tbody tr th {\n",
       "        vertical-align: top;\n",
       "    }\n",
       "\n",
       "    .dataframe thead th {\n",
       "        text-align: right;\n",
       "    }\n",
       "</style>\n",
       "<table border=\"1\" class=\"dataframe\">\n",
       "  <thead>\n",
       "    <tr style=\"text-align: right;\">\n",
       "      <th></th>\n",
       "      <th>Gender</th>\n",
       "      <th>Age</th>\n",
       "      <th>Sleep Duration</th>\n",
       "      <th>Quality of Sleep</th>\n",
       "      <th>Physical Activity Level</th>\n",
       "      <th>Stress Level</th>\n",
       "      <th>BMI Category</th>\n",
       "      <th>Blood Pressure</th>\n",
       "      <th>Heart Rate</th>\n",
       "      <th>Daily Steps</th>\n",
       "    </tr>\n",
       "  </thead>\n",
       "  <tbody>\n",
       "    <tr>\n",
       "      <th>0</th>\n",
       "      <td>Male</td>\n",
       "      <td>27</td>\n",
       "      <td>6.1</td>\n",
       "      <td>6</td>\n",
       "      <td>42</td>\n",
       "      <td>6</td>\n",
       "      <td>3.0</td>\n",
       "      <td>11.0</td>\n",
       "      <td>77</td>\n",
       "      <td>4200</td>\n",
       "    </tr>\n",
       "    <tr>\n",
       "      <th>1</th>\n",
       "      <td>Male</td>\n",
       "      <td>28</td>\n",
       "      <td>6.2</td>\n",
       "      <td>6</td>\n",
       "      <td>60</td>\n",
       "      <td>8</td>\n",
       "      <td>0.0</td>\n",
       "      <td>9.0</td>\n",
       "      <td>75</td>\n",
       "      <td>10000</td>\n",
       "    </tr>\n",
       "    <tr>\n",
       "      <th>2</th>\n",
       "      <td>Male</td>\n",
       "      <td>28</td>\n",
       "      <td>6.2</td>\n",
       "      <td>6</td>\n",
       "      <td>60</td>\n",
       "      <td>8</td>\n",
       "      <td>0.0</td>\n",
       "      <td>9.0</td>\n",
       "      <td>75</td>\n",
       "      <td>10000</td>\n",
       "    </tr>\n",
       "    <tr>\n",
       "      <th>3</th>\n",
       "      <td>Male</td>\n",
       "      <td>28</td>\n",
       "      <td>5.9</td>\n",
       "      <td>4</td>\n",
       "      <td>30</td>\n",
       "      <td>8</td>\n",
       "      <td>2.0</td>\n",
       "      <td>22.0</td>\n",
       "      <td>85</td>\n",
       "      <td>3000</td>\n",
       "    </tr>\n",
       "    <tr>\n",
       "      <th>4</th>\n",
       "      <td>Male</td>\n",
       "      <td>28</td>\n",
       "      <td>5.9</td>\n",
       "      <td>4</td>\n",
       "      <td>30</td>\n",
       "      <td>8</td>\n",
       "      <td>2.0</td>\n",
       "      <td>22.0</td>\n",
       "      <td>85</td>\n",
       "      <td>3000</td>\n",
       "    </tr>\n",
       "  </tbody>\n",
       "</table>\n",
       "</div>"
      ],
      "text/plain": [
       "  Gender  Age  Sleep Duration  Quality of Sleep  Physical Activity Level  \\\n",
       "0   Male   27             6.1                 6                       42   \n",
       "1   Male   28             6.2                 6                       60   \n",
       "2   Male   28             6.2                 6                       60   \n",
       "3   Male   28             5.9                 4                       30   \n",
       "4   Male   28             5.9                 4                       30   \n",
       "\n",
       "   Stress Level  BMI Category  Blood Pressure  Heart Rate  Daily Steps  \n",
       "0             6           3.0            11.0          77         4200  \n",
       "1             8           0.0             9.0          75        10000  \n",
       "2             8           0.0             9.0          75        10000  \n",
       "3             8           2.0            22.0          85         3000  \n",
       "4             8           2.0            22.0          85         3000  "
      ]
     },
     "execution_count": 21,
     "metadata": {},
     "output_type": "execute_result"
    }
   ],
   "source": [
    "from sklearn.preprocessing import OrdinalEncoder\n",
    "\n",
    "ordinal_encoding = OrdinalEncoder()\n",
    "\n",
    "X_reshape = X[['BMI Category','Blood Pressure']]\n",
    "\n",
    "labeled_X_copy = ordinal_encoding.fit_transform(X_reshape)\n",
    "\n",
    "#converting encoded feature array to dataframe\n",
    "labeled_X_copy = pd.DataFrame(labeled_X_copy, columns=['BMI Category', 'Blood Pressure'])\n",
    "\n",
    "X[['BMI Category', 'Blood Pressure']] = labeled_X_copy\n",
    "X.head()"
   ]
  },
  {
   "cell_type": "code",
   "execution_count": 22,
   "id": "04b14354",
   "metadata": {
    "execution": {
     "iopub.execute_input": "2023-07-14T16:45:37.699324Z",
     "iopub.status.busy": "2023-07-14T16:45:37.698265Z",
     "iopub.status.idle": "2023-07-14T16:45:37.712251Z",
     "shell.execute_reply": "2023-07-14T16:45:37.710867Z"
    },
    "papermill": {
     "duration": 0.038251,
     "end_time": "2023-07-14T16:45:37.715229",
     "exception": false,
     "start_time": "2023-07-14T16:45:37.676978",
     "status": "completed"
    },
    "tags": []
   },
   "outputs": [],
   "source": [
    "X.to_csv(\"/kaggle/working/mydata2.csv\", index=False)"
   ]
  },
  {
   "cell_type": "code",
   "execution_count": 23,
   "id": "a04c3a19",
   "metadata": {
    "execution": {
     "iopub.execute_input": "2023-07-14T16:45:37.756282Z",
     "iopub.status.busy": "2023-07-14T16:45:37.755805Z",
     "iopub.status.idle": "2023-07-14T16:45:37.762853Z",
     "shell.execute_reply": "2023-07-14T16:45:37.761487Z"
    },
    "papermill": {
     "duration": 0.030864,
     "end_time": "2023-07-14T16:45:37.765355",
     "exception": false,
     "start_time": "2023-07-14T16:45:37.734491",
     "status": "completed"
    },
    "tags": []
   },
   "outputs": [],
   "source": [
    "#dropping gender and age column too\n",
    "X = X.drop(columns=['Gender', 'Age'])"
   ]
  },
  {
   "cell_type": "code",
   "execution_count": 24,
   "id": "9014dd77",
   "metadata": {
    "execution": {
     "iopub.execute_input": "2023-07-14T16:45:37.804729Z",
     "iopub.status.busy": "2023-07-14T16:45:37.804010Z",
     "iopub.status.idle": "2023-07-14T16:45:37.820356Z",
     "shell.execute_reply": "2023-07-14T16:45:37.818795Z"
    },
    "papermill": {
     "duration": 0.039049,
     "end_time": "2023-07-14T16:45:37.822721",
     "exception": false,
     "start_time": "2023-07-14T16:45:37.783672",
     "status": "completed"
    },
    "tags": []
   },
   "outputs": [
    {
     "name": "stdout",
     "output_type": "stream",
     "text": [
      "<class 'pandas.core.frame.DataFrame'>\n",
      "RangeIndex: 374 entries, 0 to 373\n",
      "Data columns (total 8 columns):\n",
      " #   Column                   Non-Null Count  Dtype  \n",
      "---  ------                   --------------  -----  \n",
      " 0   Sleep Duration           374 non-null    float64\n",
      " 1   Quality of Sleep         374 non-null    int64  \n",
      " 2   Physical Activity Level  374 non-null    int64  \n",
      " 3   Stress Level             374 non-null    int64  \n",
      " 4   BMI Category             374 non-null    float64\n",
      " 5   Blood Pressure           374 non-null    float64\n",
      " 6   Heart Rate               374 non-null    int64  \n",
      " 7   Daily Steps              374 non-null    int64  \n",
      "dtypes: float64(3), int64(5)\n",
      "memory usage: 23.5 KB\n"
     ]
    }
   ],
   "source": [
    "X.info()"
   ]
  },
  {
   "cell_type": "code",
   "execution_count": 25,
   "id": "25603b44",
   "metadata": {
    "execution": {
     "iopub.execute_input": "2023-07-14T16:45:37.862076Z",
     "iopub.status.busy": "2023-07-14T16:45:37.861271Z",
     "iopub.status.idle": "2023-07-14T16:45:37.879266Z",
     "shell.execute_reply": "2023-07-14T16:45:37.877750Z"
    },
    "papermill": {
     "duration": 0.040752,
     "end_time": "2023-07-14T16:45:37.881780",
     "exception": false,
     "start_time": "2023-07-14T16:45:37.841028",
     "status": "completed"
    },
    "tags": []
   },
   "outputs": [
    {
     "data": {
      "text/html": [
       "<div>\n",
       "<style scoped>\n",
       "    .dataframe tbody tr th:only-of-type {\n",
       "        vertical-align: middle;\n",
       "    }\n",
       "\n",
       "    .dataframe tbody tr th {\n",
       "        vertical-align: top;\n",
       "    }\n",
       "\n",
       "    .dataframe thead th {\n",
       "        text-align: right;\n",
       "    }\n",
       "</style>\n",
       "<table border=\"1\" class=\"dataframe\">\n",
       "  <thead>\n",
       "    <tr style=\"text-align: right;\">\n",
       "      <th></th>\n",
       "      <th>Sleep Duration</th>\n",
       "      <th>Quality of Sleep</th>\n",
       "      <th>Physical Activity Level</th>\n",
       "      <th>Stress Level</th>\n",
       "      <th>BMI Category</th>\n",
       "      <th>Blood Pressure</th>\n",
       "      <th>Heart Rate</th>\n",
       "      <th>Daily Steps</th>\n",
       "    </tr>\n",
       "  </thead>\n",
       "  <tbody>\n",
       "    <tr>\n",
       "      <th>0</th>\n",
       "      <td>6.1</td>\n",
       "      <td>6</td>\n",
       "      <td>42</td>\n",
       "      <td>6</td>\n",
       "      <td>3.0</td>\n",
       "      <td>11.0</td>\n",
       "      <td>77</td>\n",
       "      <td>4200</td>\n",
       "    </tr>\n",
       "    <tr>\n",
       "      <th>1</th>\n",
       "      <td>6.2</td>\n",
       "      <td>6</td>\n",
       "      <td>60</td>\n",
       "      <td>8</td>\n",
       "      <td>0.0</td>\n",
       "      <td>9.0</td>\n",
       "      <td>75</td>\n",
       "      <td>10000</td>\n",
       "    </tr>\n",
       "    <tr>\n",
       "      <th>2</th>\n",
       "      <td>6.2</td>\n",
       "      <td>6</td>\n",
       "      <td>60</td>\n",
       "      <td>8</td>\n",
       "      <td>0.0</td>\n",
       "      <td>9.0</td>\n",
       "      <td>75</td>\n",
       "      <td>10000</td>\n",
       "    </tr>\n",
       "    <tr>\n",
       "      <th>3</th>\n",
       "      <td>5.9</td>\n",
       "      <td>4</td>\n",
       "      <td>30</td>\n",
       "      <td>8</td>\n",
       "      <td>2.0</td>\n",
       "      <td>22.0</td>\n",
       "      <td>85</td>\n",
       "      <td>3000</td>\n",
       "    </tr>\n",
       "    <tr>\n",
       "      <th>4</th>\n",
       "      <td>5.9</td>\n",
       "      <td>4</td>\n",
       "      <td>30</td>\n",
       "      <td>8</td>\n",
       "      <td>2.0</td>\n",
       "      <td>22.0</td>\n",
       "      <td>85</td>\n",
       "      <td>3000</td>\n",
       "    </tr>\n",
       "  </tbody>\n",
       "</table>\n",
       "</div>"
      ],
      "text/plain": [
       "   Sleep Duration  Quality of Sleep  Physical Activity Level  Stress Level  \\\n",
       "0             6.1                 6                       42             6   \n",
       "1             6.2                 6                       60             8   \n",
       "2             6.2                 6                       60             8   \n",
       "3             5.9                 4                       30             8   \n",
       "4             5.9                 4                       30             8   \n",
       "\n",
       "   BMI Category  Blood Pressure  Heart Rate  Daily Steps  \n",
       "0           3.0            11.0          77         4200  \n",
       "1           0.0             9.0          75        10000  \n",
       "2           0.0             9.0          75        10000  \n",
       "3           2.0            22.0          85         3000  \n",
       "4           2.0            22.0          85         3000  "
      ]
     },
     "execution_count": 25,
     "metadata": {},
     "output_type": "execute_result"
    }
   ],
   "source": [
    "X.head()"
   ]
  },
  {
   "cell_type": "code",
   "execution_count": 26,
   "id": "e8f80249",
   "metadata": {
    "execution": {
     "iopub.execute_input": "2023-07-14T16:45:37.922199Z",
     "iopub.status.busy": "2023-07-14T16:45:37.921712Z",
     "iopub.status.idle": "2023-07-14T16:45:37.930571Z",
     "shell.execute_reply": "2023-07-14T16:45:37.928934Z"
    },
    "papermill": {
     "duration": 0.03304,
     "end_time": "2023-07-14T16:45:37.933464",
     "exception": false,
     "start_time": "2023-07-14T16:45:37.900424",
     "status": "completed"
    },
    "tags": []
   },
   "outputs": [],
   "source": [
    "X_train,X_test,Y_train,Y_test = train_test_split(X, Y, test_size=0.2, random_state=2)"
   ]
  },
  {
   "cell_type": "code",
   "execution_count": 27,
   "id": "f5be4c9a",
   "metadata": {
    "execution": {
     "iopub.execute_input": "2023-07-14T16:45:37.973866Z",
     "iopub.status.busy": "2023-07-14T16:45:37.973255Z",
     "iopub.status.idle": "2023-07-14T16:45:37.980133Z",
     "shell.execute_reply": "2023-07-14T16:45:37.978794Z"
    },
    "papermill": {
     "duration": 0.030851,
     "end_time": "2023-07-14T16:45:37.983213",
     "exception": false,
     "start_time": "2023-07-14T16:45:37.952362",
     "status": "completed"
    },
    "tags": []
   },
   "outputs": [
    {
     "name": "stdout",
     "output_type": "stream",
     "text": [
      "(299, 8)\n",
      "(75, 8)\n",
      "(299,)\n",
      "(75,)\n"
     ]
    }
   ],
   "source": [
    "print(X_train.shape)\n",
    "print(X_test.shape)\n",
    "print(Y_train.shape)\n",
    "print(Y_test.shape)"
   ]
  },
  {
   "cell_type": "markdown",
   "id": "f2295d96",
   "metadata": {
    "papermill": {
     "duration": 0.02014,
     "end_time": "2023-07-14T16:45:38.022457",
     "exception": false,
     "start_time": "2023-07-14T16:45:38.002317",
     "status": "completed"
    },
    "tags": []
   },
   "source": [
    "## Standardizing the dataset"
   ]
  },
  {
   "cell_type": "code",
   "execution_count": 28,
   "id": "32a8cc6e",
   "metadata": {
    "execution": {
     "iopub.execute_input": "2023-07-14T16:45:38.064082Z",
     "iopub.status.busy": "2023-07-14T16:45:38.063575Z",
     "iopub.status.idle": "2023-07-14T16:45:38.081953Z",
     "shell.execute_reply": "2023-07-14T16:45:38.080552Z"
    },
    "papermill": {
     "duration": 0.042614,
     "end_time": "2023-07-14T16:45:38.085093",
     "exception": false,
     "start_time": "2023-07-14T16:45:38.042479",
     "status": "completed"
    },
    "tags": []
   },
   "outputs": [],
   "source": [
    "scaler = StandardScaler()\n",
    "\n",
    "scaler.fit(X_train)\n",
    "X_train = scaler.transform(X_train)\n",
    "X_test = scaler.fit_transform(X_test)"
   ]
  },
  {
   "cell_type": "code",
   "execution_count": 29,
   "id": "b2d73f72",
   "metadata": {
    "execution": {
     "iopub.execute_input": "2023-07-14T16:45:38.130287Z",
     "iopub.status.busy": "2023-07-14T16:45:38.129640Z",
     "iopub.status.idle": "2023-07-14T16:45:38.139690Z",
     "shell.execute_reply": "2023-07-14T16:45:38.137555Z"
    },
    "papermill": {
     "duration": 0.036801,
     "end_time": "2023-07-14T16:45:38.142337",
     "exception": false,
     "start_time": "2023-07-14T16:45:38.105536",
     "status": "completed"
    },
    "tags": []
   },
   "outputs": [
    {
     "name": "stdout",
     "output_type": "stream",
     "text": [
      "[[-1.06440378 -1.10437795 -0.62919851 ...  0.29093908  0.43911233\n",
      "  -0.45036477]\n",
      " [ 0.06728748  0.55080504  0.10606864 ... -1.82734301 -0.50206751\n",
      "   0.17161706]\n",
      " [-1.31589073 -1.10437795  1.57660293 ...  1.42068952  1.14499721\n",
      "   2.03756256]\n",
      " ...\n",
      " [-1.31589073 -1.10437795 -1.36446565 ... -0.55637376  0.43911233\n",
      "  -1.0723466 ]\n",
      " [-1.4416342  -1.10437795 -1.36446565 ... -0.98003017 -0.03147759\n",
      "   0.79359889]\n",
      " [-0.058456   -0.27678645 -0.13902041 ... -0.41515495  0.43911233\n",
      "  -0.45036477]]\n"
     ]
    }
   ],
   "source": [
    "print(X_train)"
   ]
  },
  {
   "cell_type": "markdown",
   "id": "cfdf1ab4",
   "metadata": {
    "papermill": {
     "duration": 0.018669,
     "end_time": "2023-07-14T16:45:38.180305",
     "exception": false,
     "start_time": "2023-07-14T16:45:38.161636",
     "status": "completed"
    },
    "tags": []
   },
   "source": [
    "## Training Model"
   ]
  },
  {
   "cell_type": "code",
   "execution_count": 30,
   "id": "aea9a7da",
   "metadata": {
    "execution": {
     "iopub.execute_input": "2023-07-14T16:45:38.220930Z",
     "iopub.status.busy": "2023-07-14T16:45:38.220391Z",
     "iopub.status.idle": "2023-07-14T16:45:38.238102Z",
     "shell.execute_reply": "2023-07-14T16:45:38.236404Z"
    },
    "papermill": {
     "duration": 0.041458,
     "end_time": "2023-07-14T16:45:38.240699",
     "exception": false,
     "start_time": "2023-07-14T16:45:38.199241",
     "status": "completed"
    },
    "tags": []
   },
   "outputs": [
    {
     "name": "stdout",
     "output_type": "stream",
     "text": [
      "0.9130434782608695\n"
     ]
    }
   ],
   "source": [
    "#training model\n",
    "model = svm.SVC(kernel='linear')\n",
    "model.fit(X_train, Y_train)\n",
    "\n",
    "#prediction\n",
    "X_train_pred = model.predict(X_train)\n",
    "#checking accuracy in training data\n",
    "X_train_accuracy = accuracy_score(Y_train, X_train_pred)\n",
    "print(X_train_accuracy)"
   ]
  },
  {
   "cell_type": "code",
   "execution_count": 31,
   "id": "2b45e6eb",
   "metadata": {
    "execution": {
     "iopub.execute_input": "2023-07-14T16:45:38.283185Z",
     "iopub.status.busy": "2023-07-14T16:45:38.281801Z",
     "iopub.status.idle": "2023-07-14T16:45:38.292284Z",
     "shell.execute_reply": "2023-07-14T16:45:38.291236Z"
    },
    "papermill": {
     "duration": 0.033908,
     "end_time": "2023-07-14T16:45:38.294713",
     "exception": false,
     "start_time": "2023-07-14T16:45:38.260805",
     "status": "completed"
    },
    "tags": []
   },
   "outputs": [
    {
     "name": "stdout",
     "output_type": "stream",
     "text": [
      "0.92\n"
     ]
    }
   ],
   "source": [
    "X_test_pred = model.predict(X_test)\n",
    "X_test_accuracy = accuracy_score(Y_test, X_test_pred)\n",
    "print(X_test_accuracy)"
   ]
  },
  {
   "cell_type": "markdown",
   "id": "68e1c263",
   "metadata": {
    "papermill": {
     "duration": 0.022129,
     "end_time": "2023-07-14T16:45:38.340796",
     "exception": false,
     "start_time": "2023-07-14T16:45:38.318667",
     "status": "completed"
    },
    "tags": []
   },
   "source": [
    "# Testing the Model with new inputs"
   ]
  },
  {
   "cell_type": "code",
   "execution_count": 32,
   "id": "1144db5e",
   "metadata": {
    "execution": {
     "iopub.execute_input": "2023-07-14T16:45:38.390680Z",
     "iopub.status.busy": "2023-07-14T16:45:38.390224Z",
     "iopub.status.idle": "2023-07-14T16:45:38.403258Z",
     "shell.execute_reply": "2023-07-14T16:45:38.401921Z"
    },
    "papermill": {
     "duration": 0.039314,
     "end_time": "2023-07-14T16:45:38.406134",
     "exception": false,
     "start_time": "2023-07-14T16:45:38.366820",
     "status": "completed"
    },
    "tags": []
   },
   "outputs": [
    {
     "name": "stdout",
     "output_type": "stream",
     "text": [
      "['None']\n"
     ]
    },
    {
     "name": "stderr",
     "output_type": "stream",
     "text": [
      "/opt/conda/lib/python3.10/site-packages/sklearn/base.py:439: UserWarning: X does not have valid feature names, but StandardScaler was fitted with feature names\n",
      "  warnings.warn(\n"
     ]
    }
   ],
   "source": [
    "input_data = (8.2,9,90,3,1,3,65,10000) #row no 344 in df\n",
    "\n",
    "input_data_np = np.asarray(input_data)\n",
    "input_data_reshaped = input_data_np.reshape(1,-1)\n",
    "\n",
    "standard_data = scaler.transform(input_data_reshaped)\n",
    "pred = model.predict(standard_data)\n",
    "\n",
    "print(pred)"
   ]
  }
 ],
 "metadata": {
  "kernelspec": {
   "display_name": "Python 3",
   "language": "python",
   "name": "python3"
  },
  "language_info": {
   "codemirror_mode": {
    "name": "ipython",
    "version": 3
   },
   "file_extension": ".py",
   "mimetype": "text/x-python",
   "name": "python",
   "nbconvert_exporter": "python",
   "pygments_lexer": "ipython3",
   "version": "3.10.12"
  },
  "papermill": {
   "default_parameters": {},
   "duration": 29.956639,
   "end_time": "2023-07-14T16:45:39.658912",
   "environment_variables": {},
   "exception": null,
   "input_path": "__notebook__.ipynb",
   "output_path": "__notebook__.ipynb",
   "parameters": {},
   "start_time": "2023-07-14T16:45:09.702273",
   "version": "2.4.0"
  }
 },
 "nbformat": 4,
 "nbformat_minor": 5
}
